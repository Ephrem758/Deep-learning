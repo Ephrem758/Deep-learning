{
 "cells": [
  {
   "cell_type": "code",
   "execution_count": null,
   "id": "d745c1cb",
   "metadata": {},
   "outputs": [],
   "source": [
    "import torch\n",
    "\n",
    "class DenseLayer:\n",
    "\n",
    "  # Layer initialization\n",
    "  def init(self, n_features, n_neurons):\n",
    "    # Initialize weights and biases\n",
    "    self.weights = 0.01 * torch.rand(n_features, n_neurons)\n",
    "    self.biases = torch.zeros((1,n_neurons))\n",
    "    #pass\n",
    "    # using pass statement as a placeholder\n",
    "\n",
    "    #forward pass\n",
    "  def forward(self, inputs):\n",
    "      #calculate output values from inputs, weights and biases\n",
    "      self.output = torch.matmul(inputs, self.weights) + self.biases\n",
    "      #pass\n",
    "\n",
    "#create dataset\n",
    "x = torch.rand((10,5))\n",
    "\n",
    "#model creation\n",
    "layer_1 = DenseLayer(5,16)\n",
    "layer_2 = DenseLayer(16,16)\n",
    "layer_3 = DenseLayer(16,16)\n",
    "output_layer = DenseLayer(16,5)\n",
    "\n",
    "\n",
    "\n",
    "layer_1.forward(x)\n",
    "layer_2.forward(layer_1.output)\n",
    "layer_3.forward(layer_2.output)\n",
    "output_layer.forward(layer_3.output)\n",
    "output_layer.output"
   ]
  }
 ],
 "metadata": {
  "kernelspec": {
   "display_name": "Python 3 (ipykernel)",
   "language": "python",
   "name": "python3"
  },
  "language_info": {
   "codemirror_mode": {
    "name": "ipython",
    "version": 3
   },
   "file_extension": ".py",
   "mimetype": "text/x-python",
   "name": "python",
   "nbconvert_exporter": "python",
   "pygments_lexer": "ipython3",
   "version": "3.9.13"
  }
 },
 "nbformat": 4,
 "nbformat_minor": 5
}
